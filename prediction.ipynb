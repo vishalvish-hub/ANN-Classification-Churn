{
 "cells": [
  {
   "cell_type": "code",
   "execution_count": 1,
   "id": "ce78e1dc",
   "metadata": {},
   "outputs": [],
   "source": [
    "import tensorflow as tf\n",
    "from tensorflow.keras.models import load_model\n",
    "import pickle \n",
    "import pandas as pd\n",
    "import numpy as np"
   ]
  },
  {
   "cell_type": "markdown",
   "id": "783b3b2c",
   "metadata": {},
   "source": [
    "🔹 Step-by-Step Explanation:\n",
    "\n",
    "* import tensorflow as tf\n",
    "➡️ Loads TensorFlow — needed to use Keras models (for prediction).\n",
    "\n",
    "\n",
    "* from tensorflow.keras.models import load_model\n",
    "➡️ Imports the load_model function to load your trained ANN model saved earlier.\n",
    "\n",
    "\n",
    "* import pickle\n",
    "➡️ Loads the pickle module — used to load saved encoders or scaler (LabelEncoder, OneHotEncoder, StandardScaler, etc.).\n",
    "\n",
    "\n",
    "* import pandas as pd\n",
    "➡️ Imports Pandas to work with data (CSV, DataFrame, etc.).\n",
    "\n",
    "\n",
    "* import numpy as np\n",
    "➡️ Imports NumPy, used for numerical operations (arrays, reshaping input data, etc.).\n",
    "\n"
   ]
  },
  {
   "cell_type": "code",
   "execution_count": 8,
   "id": "d4df55f1",
   "metadata": {},
   "outputs": [
    {
     "name": "stderr",
     "output_type": "stream",
     "text": [
      "WARNING:absl:Compiled the loaded model, but the compiled metrics have yet to be built. `model.compile_metrics` will be empty until you train or evaluate the model.\n"
     ]
    }
   ],
   "source": [
    "## Load the trained model, scaler pickle,onehot\n",
    "model=load_model('model.h5')\n",
    "\n",
    "## Load the encoder and scaler\n",
    "with open('onehot_encoder_geo.pkl','rb') as file:\n",
    "    label_encoder_geo=pickle.load(file)\n",
    "\n",
    "with open('label_encoder_gender.pkl','rb') as file:\n",
    "    label_encoder_gender=pickle.load(file)\n",
    "\n",
    "with open('scaler.pkl','rb') as file:\n",
    "    scaler=pickle.load(file)\n"
   ]
  },
  {
   "cell_type": "markdown",
   "id": "cbcdb125",
   "metadata": {},
   "source": [
    "✅ Code Explanation:\n",
    "\n",
    "model = load_model('model.h5')\n",
    "➡️ Loads your trained ANN model (previously saved) from the file model.h5.\n",
    "You’ll use this to make predictions.\n",
    "\n",
    "\n",
    "* with open('onehot_encoder_geo.pkl','rb') as file:\n",
    "\n",
    "    label_encoder_geo = pickle.load(file)\n",
    "➡️ Loads the saved OneHotEncoder for the \"Geography\" column.\n",
    "(It should actually be named onehot_encoder_geo, not label_encoder_geo — this may be a typo.)\n",
    "\n",
    "\n",
    "* with open('label_encoder_gender.pkl','rb') as file:\n",
    "\n",
    "    label_encoder_gender = pickle.load(file)\n",
    "➡️ Loads the LabelEncoder used to encode \"Gender\".\n",
    "\n",
    "\n",
    "* with open('scaler.pkl','rb') as file:\n",
    "\n",
    "    scaler = pickle.load(file)\n",
    "➡️ Loads the StandardScaler used to scale input features, so that new input data is processed the same way.\n",
    "\n",
    "⚠️ Minor Fix:\n",
    "In your OneHotEncoder loading line:\n",
    "\n",
    "\n",
    "label_encoder_geo = pickle.load(file)  # ❌ Wrong name\n",
    "should be:\n",
    "\n",
    "\n",
    "onehot_encoder_geo = pickle.load(file)  # ✅ Matches what you originally saved"
   ]
  },
  {
   "cell_type": "code",
   "execution_count": 4,
   "id": "d9433145",
   "metadata": {},
   "outputs": [],
   "source": [
    "## Example input data\n",
    "input_data = {\n",
    "    'CreditScore': 600,\n",
    "    'Geography': 'France',\n",
    "    'Gender': 'Male',\n",
    "    'Age': 40,\n",
    "    'Tenure': 3,\n",
    "    'Balance': 60000,\n",
    "    'NumOfProducts': 2,\n",
    "    'HasCrCard': 1,\n",
    "    'IsActiveMember': 1,\n",
    "    'EstimatedSalary': 50000\n",
    "}"
   ]
  },
  {
   "cell_type": "code",
   "execution_count": 5,
   "id": "29ec5bc1",
   "metadata": {},
   "outputs": [
    {
     "name": "stderr",
     "output_type": "stream",
     "text": [
      "c:\\Users\\Vishal Vishwakarma\\Downloads\\ANN CLASSIFICATION\\venv\\Lib\\site-packages\\sklearn\\utils\\validation.py:2749: UserWarning: X does not have valid feature names, but OneHotEncoder was fitted with feature names\n",
      "  warnings.warn(\n"
     ]
    },
    {
     "data": {
      "text/html": [
       "<div>\n",
       "<style scoped>\n",
       "    .dataframe tbody tr th:only-of-type {\n",
       "        vertical-align: middle;\n",
       "    }\n",
       "\n",
       "    .dataframe tbody tr th {\n",
       "        vertical-align: top;\n",
       "    }\n",
       "\n",
       "    .dataframe thead th {\n",
       "        text-align: right;\n",
       "    }\n",
       "</style>\n",
       "<table border=\"1\" class=\"dataframe\">\n",
       "  <thead>\n",
       "    <tr style=\"text-align: right;\">\n",
       "      <th></th>\n",
       "      <th>Geography_France</th>\n",
       "      <th>Geography_Germany</th>\n",
       "      <th>Geography_Spain</th>\n",
       "    </tr>\n",
       "  </thead>\n",
       "  <tbody>\n",
       "    <tr>\n",
       "      <th>0</th>\n",
       "      <td>1.0</td>\n",
       "      <td>0.0</td>\n",
       "      <td>0.0</td>\n",
       "    </tr>\n",
       "  </tbody>\n",
       "</table>\n",
       "</div>"
      ],
      "text/plain": [
       "   Geography_France  Geography_Germany  Geography_Spain\n",
       "0               1.0                0.0              0.0"
      ]
     },
     "execution_count": 5,
     "metadata": {},
     "output_type": "execute_result"
    }
   ],
   "source": [
    "## One-hot encode 'Geography' \n",
    "geo_encoded=label_encoder_geo.transform([[input_data['Geography']]]).toarray()\n",
    "geo_encoded_df=pd.DataFrame(geo_encoded,columns=label_encoder_geo.get_feature_names_out(['Geography']))\n",
    "geo_encoded_df"
   ]
  },
  {
   "cell_type": "code",
   "execution_count": 6,
   "id": "413f284e",
   "metadata": {},
   "outputs": [
    {
     "data": {
      "text/html": [
       "<div>\n",
       "<style scoped>\n",
       "    .dataframe tbody tr th:only-of-type {\n",
       "        vertical-align: middle;\n",
       "    }\n",
       "\n",
       "    .dataframe tbody tr th {\n",
       "        vertical-align: top;\n",
       "    }\n",
       "\n",
       "    .dataframe thead th {\n",
       "        text-align: right;\n",
       "    }\n",
       "</style>\n",
       "<table border=\"1\" class=\"dataframe\">\n",
       "  <thead>\n",
       "    <tr style=\"text-align: right;\">\n",
       "      <th></th>\n",
       "      <th>CreditScore</th>\n",
       "      <th>Geography</th>\n",
       "      <th>Gender</th>\n",
       "      <th>Age</th>\n",
       "      <th>Tenure</th>\n",
       "      <th>Balance</th>\n",
       "      <th>NumOfProducts</th>\n",
       "      <th>HasCrCard</th>\n",
       "      <th>IsActiveMember</th>\n",
       "      <th>EstimatedSalary</th>\n",
       "    </tr>\n",
       "  </thead>\n",
       "  <tbody>\n",
       "    <tr>\n",
       "      <th>0</th>\n",
       "      <td>600</td>\n",
       "      <td>France</td>\n",
       "      <td>Male</td>\n",
       "      <td>40</td>\n",
       "      <td>3</td>\n",
       "      <td>60000</td>\n",
       "      <td>2</td>\n",
       "      <td>1</td>\n",
       "      <td>1</td>\n",
       "      <td>50000</td>\n",
       "    </tr>\n",
       "  </tbody>\n",
       "</table>\n",
       "</div>"
      ],
      "text/plain": [
       "   CreditScore Geography Gender  Age  Tenure  Balance  NumOfProducts  \\\n",
       "0          600    France   Male   40       3    60000              2   \n",
       "\n",
       "   HasCrCard  IsActiveMember  EstimatedSalary  \n",
       "0          1               1            50000  "
      ]
     },
     "execution_count": 6,
     "metadata": {},
     "output_type": "execute_result"
    }
   ],
   "source": [
    "input_df=pd.DataFrame([input_data])\n",
    "input_df"
   ]
  },
  {
   "cell_type": "markdown",
   "id": "024fd90e",
   "metadata": {},
   "source": [
    "🧠 What It Does:\n",
    "* Converts your Python dictionary (input_data) into a DataFrame\n",
    "\n",
    "* The outer [ ] ensures it's treated as one row of data\n",
    "\n",
    "* input_df now looks like one row of a table — ready for preprocessing\n",
    "\n"
   ]
  },
  {
   "cell_type": "code",
   "execution_count": 10,
   "id": "274ba2eb",
   "metadata": {},
   "outputs": [
    {
     "data": {
      "text/html": [
       "<div>\n",
       "<style scoped>\n",
       "    .dataframe tbody tr th:only-of-type {\n",
       "        vertical-align: middle;\n",
       "    }\n",
       "\n",
       "    .dataframe tbody tr th {\n",
       "        vertical-align: top;\n",
       "    }\n",
       "\n",
       "    .dataframe thead th {\n",
       "        text-align: right;\n",
       "    }\n",
       "</style>\n",
       "<table border=\"1\" class=\"dataframe\">\n",
       "  <thead>\n",
       "    <tr style=\"text-align: right;\">\n",
       "      <th></th>\n",
       "      <th>CreditScore</th>\n",
       "      <th>Geography</th>\n",
       "      <th>Gender</th>\n",
       "      <th>Age</th>\n",
       "      <th>Tenure</th>\n",
       "      <th>Balance</th>\n",
       "      <th>NumOfProducts</th>\n",
       "      <th>HasCrCard</th>\n",
       "      <th>IsActiveMember</th>\n",
       "      <th>EstimatedSalary</th>\n",
       "    </tr>\n",
       "  </thead>\n",
       "  <tbody>\n",
       "    <tr>\n",
       "      <th>0</th>\n",
       "      <td>600</td>\n",
       "      <td>France</td>\n",
       "      <td>1</td>\n",
       "      <td>40</td>\n",
       "      <td>3</td>\n",
       "      <td>60000</td>\n",
       "      <td>2</td>\n",
       "      <td>1</td>\n",
       "      <td>1</td>\n",
       "      <td>50000</td>\n",
       "    </tr>\n",
       "  </tbody>\n",
       "</table>\n",
       "</div>"
      ],
      "text/plain": [
       "   CreditScore Geography  Gender  Age  Tenure  Balance  NumOfProducts  \\\n",
       "0          600    France       1   40       3    60000              2   \n",
       "\n",
       "   HasCrCard  IsActiveMember  EstimatedSalary  \n",
       "0          1               1            50000  "
      ]
     },
     "execution_count": 10,
     "metadata": {},
     "output_type": "execute_result"
    }
   ],
   "source": [
    "## Encode categorical variables\n",
    "input_df['Gender']= label_encoder_gender.transform(input_df['Gender'])\n",
    "input_df"
   ]
  },
  {
   "cell_type": "markdown",
   "id": "b8ca7e0b",
   "metadata": {},
   "source": [
    "🔍 What It Does:\n",
    "It uses the LabelEncoder you trained earlier to convert:\n",
    "\n",
    "'Male' → 1\n",
    "\n",
    "'Female' → 0\n",
    "\n",
    "This makes the 'Gender' column numerical, so it can be used by the model.\n",
    "\n",
    "✅ Output:\n",
    "Your input_df now has \"Gender\" as a number, which is what your model expects.\n",
    "\n"
   ]
  },
  {
   "cell_type": "code",
   "execution_count": 11,
   "id": "d08c07c3",
   "metadata": {},
   "outputs": [
    {
     "data": {
      "text/html": [
       "<div>\n",
       "<style scoped>\n",
       "    .dataframe tbody tr th:only-of-type {\n",
       "        vertical-align: middle;\n",
       "    }\n",
       "\n",
       "    .dataframe tbody tr th {\n",
       "        vertical-align: top;\n",
       "    }\n",
       "\n",
       "    .dataframe thead th {\n",
       "        text-align: right;\n",
       "    }\n",
       "</style>\n",
       "<table border=\"1\" class=\"dataframe\">\n",
       "  <thead>\n",
       "    <tr style=\"text-align: right;\">\n",
       "      <th></th>\n",
       "      <th>CreditScore</th>\n",
       "      <th>Gender</th>\n",
       "      <th>Age</th>\n",
       "      <th>Tenure</th>\n",
       "      <th>Balance</th>\n",
       "      <th>NumOfProducts</th>\n",
       "      <th>HasCrCard</th>\n",
       "      <th>IsActiveMember</th>\n",
       "      <th>EstimatedSalary</th>\n",
       "      <th>Geography_France</th>\n",
       "      <th>Geography_Germany</th>\n",
       "      <th>Geography_Spain</th>\n",
       "    </tr>\n",
       "  </thead>\n",
       "  <tbody>\n",
       "    <tr>\n",
       "      <th>0</th>\n",
       "      <td>600</td>\n",
       "      <td>1</td>\n",
       "      <td>40</td>\n",
       "      <td>3</td>\n",
       "      <td>60000</td>\n",
       "      <td>2</td>\n",
       "      <td>1</td>\n",
       "      <td>1</td>\n",
       "      <td>50000</td>\n",
       "      <td>1.0</td>\n",
       "      <td>0.0</td>\n",
       "      <td>0.0</td>\n",
       "    </tr>\n",
       "  </tbody>\n",
       "</table>\n",
       "</div>"
      ],
      "text/plain": [
       "   CreditScore  Gender  Age  Tenure  Balance  NumOfProducts  HasCrCard  \\\n",
       "0          600       1   40       3    60000              2          1   \n",
       "\n",
       "   IsActiveMember  EstimatedSalary  Geography_France  Geography_Germany  \\\n",
       "0               1            50000               1.0                0.0   \n",
       "\n",
       "   Geography_Spain  \n",
       "0              0.0  "
      ]
     },
     "execution_count": 11,
     "metadata": {},
     "output_type": "execute_result"
    }
   ],
   "source": [
    "## Concatenation with one hot encoded \n",
    "input_df= pd.concat([input_df.drop(\"Geography\",axis=1),geo_encoded_df],axis=1)\n",
    "input_df"
   ]
  },
  {
   "cell_type": "markdown",
   "id": "fcbb60cd",
   "metadata": {},
   "source": [
    " Step-by-Step Meaning:\n",
    "Code Part:\n",
    "* input_df\t---> Your original DataFrame with one row (customer input).\n",
    "* input_df.drop(\"Geography\", axis=1)\t---> Removes the 'Geography' column — because we just encoded it into numbers separately.\n",
    "* .drop(...)\t---> Used to remove a column or row from a DataFrame.\n",
    "* axis=1\t---> Means \"drop column\" (axis 0 = row, axis 1 = column).\n",
    "* geo_encoded_df\t---> This holds the one-hot encoded version of 'Geography' (e.g., France, Germany...).\n",
    "* pd.concat([...], axis=1)\t---> Joins two DataFrames side-by-side (column-wise).\n",
    "* [input_df.drop(...), geo_encoded_df]\t---> This list contains the two DataFrames we want to join together.\n",
    "* input_df = ...\t---> Updates input_df with the new combined version (without old Geography, with new encoded).\n",
    "\n",
    "💡 Why We Do This:\n",
    "We remove the original string column (Geography) because machine learning models can't work with text directly. Instead, we replace it with the numerical columns (e.g., Geography_France, Geography_Germany, Geography_Spain) created from one-hot encoding.\n",
    "\n",
    "✅ Result:\n",
    "Now input_df is fully numeric and has the same structure as your training data.\n",
    "\n",
    "\n",
    "\n"
   ]
  },
  {
   "cell_type": "code",
   "execution_count": 12,
   "id": "93e57443",
   "metadata": {},
   "outputs": [
    {
     "data": {
      "text/plain": [
       "array([[-0.53598516,  0.91324755,  0.10479359, -0.69539349, -0.25781119,\n",
       "         0.80843615,  0.64920267,  0.97481699, -0.87683221,  1.00150113,\n",
       "        -0.57946723, -0.57638802]])"
      ]
     },
     "execution_count": 12,
     "metadata": {},
     "output_type": "execute_result"
    }
   ],
   "source": [
    "## Scaling the input data\n",
    "input_scaled= scaler.transform(input_df)\n",
    "input_scaled"
   ]
  },
  {
   "cell_type": "markdown",
   "id": "4438a719",
   "metadata": {},
   "source": [
    "🔍 Word-by-Word Breakdown:\n",
    "Part:\n",
    "* input_scaled\t--> New variable to store the scaled version of input data.\n",
    "* =\t--> Assigns the result (on the right side) to the variable (on the left).\n",
    "* --> scaler\tThis is the StandardScaler object you loaded with pickle. It contains the mean and std from training data.\n",
    "* .transform(...)\t--> Applies the same scaling rules (mean = 0, std = 1) to new data.\n",
    "* input_df\t---> The one-row customer data that is now fully numeric and encoded.\n",
    "\n",
    "💡 Why We Do This:\n",
    "During training, you scaled all input features so that they’re on the same scale (helps ANN learn better). Now, we apply the same scaling to the new input before prediction.\n",
    "If you skip this step, the model will perform poorly — because the new data won’t match the scale it learned on."
   ]
  },
  {
   "cell_type": "code",
   "execution_count": 13,
   "id": "16f6fe51",
   "metadata": {},
   "outputs": [
    {
     "name": "stdout",
     "output_type": "stream",
     "text": [
      "\u001b[1m1/1\u001b[0m \u001b[32m━━━━━━━━━━━━━━━━━━━━\u001b[0m\u001b[37m\u001b[0m \u001b[1m0s\u001b[0m 242ms/step\n"
     ]
    },
    {
     "data": {
      "text/plain": [
       "array([[0.15085508]], dtype=float32)"
      ]
     },
     "execution_count": 13,
     "metadata": {},
     "output_type": "execute_result"
    }
   ],
   "source": [
    "##Predict churn\n",
    "prediction=model.predict(input_scaled)\n",
    "prediction"
   ]
  },
  {
   "cell_type": "code",
   "execution_count": 14,
   "id": "353389b6",
   "metadata": {},
   "outputs": [
    {
     "data": {
      "text/plain": [
       "0.15085508"
      ]
     },
     "execution_count": 14,
     "metadata": {},
     "output_type": "execute_result"
    }
   ],
   "source": [
    "predictiion_prob = prediction[0][0]\n",
    "predictiion_prob"
   ]
  },
  {
   "cell_type": "code",
   "execution_count": 15,
   "id": "244b4757",
   "metadata": {},
   "outputs": [
    {
     "name": "stdout",
     "output_type": "stream",
     "text": [
      "The customer is not likely to churn.\n"
     ]
    }
   ],
   "source": [
    "if predictiion_prob > 0.5:\n",
    "    print('The customer is likely to churn.')\n",
    "else:\n",
    "    print('The customer is not likely to churn.')"
   ]
  },
  {
   "cell_type": "code",
   "execution_count": null,
   "id": "7caf666b",
   "metadata": {},
   "outputs": [],
   "source": []
  }
 ],
 "metadata": {
  "kernelspec": {
   "display_name": "Python 3",
   "language": "python",
   "name": "python3"
  },
  "language_info": {
   "codemirror_mode": {
    "name": "ipython",
    "version": 3
   },
   "file_extension": ".py",
   "mimetype": "text/x-python",
   "name": "python",
   "nbconvert_exporter": "python",
   "pygments_lexer": "ipython3",
   "version": "3.11.13"
  }
 },
 "nbformat": 4,
 "nbformat_minor": 5
}
